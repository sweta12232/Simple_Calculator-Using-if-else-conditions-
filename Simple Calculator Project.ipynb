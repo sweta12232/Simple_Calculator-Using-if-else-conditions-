{
 "cells": [
  {
   "cell_type": "code",
   "execution_count": 5,
   "id": "bfc015a7",
   "metadata": {},
   "outputs": [
    {
     "name": "stdout",
     "output_type": "stream",
     "text": [
      "Enter 1 for Addition: \n",
      "Enter 2 for Subtraction: \n",
      "Enter 3 for multiplication: \n",
      "Enter 4 for division: \n",
      "Enter the number:4\n",
      "Enter the first number:4\n",
      "Enter the second number:2\n",
      "The division of 4 and 2 is 2\n"
     ]
    }
   ],
   "source": [
    "print(\"Enter 1 for Addition: \")\n",
    "print(\"Enter 2 for Subtraction: \")\n",
    "print(\"Enter 3 for multiplication: \")\n",
    "print(\"Enter 4 for division: \")\n",
    "num = int(input(\"Enter the number:\"))\n",
    "num1 = int(input(\"Enter the first number:\"))\n",
    "num2 = int(input(\"Enter the second number:\"))\n",
    "\n",
    "if num == 1:\n",
    "    num3 = num1 + num2\n",
    "    print(f'The addition of {num1} and {num2} is {num3}')\n",
    "elif num == 2:\n",
    "    num3 = num1 - num2\n",
    "    print(f'The subraction of {num1} and {num2} is {num3}')\n",
    "elif num == 3:\n",
    "    num3 = num1 * num2\n",
    "    print(f'The Multiplication of {num1} and {num2} is {num3}')\n",
    "elif num == 4:\n",
    "     num3 = num1 // num2\n",
    "     print(f'The division of {num1} and {num2} is {num3}')\n",
    "else:\n",
    "    print(\"Invalid number\")"
   ]
  },
  {
   "cell_type": "code",
   "execution_count": null,
   "id": "a368d32c",
   "metadata": {},
   "outputs": [],
   "source": []
  },
  {
   "cell_type": "code",
   "execution_count": null,
   "id": "b851f4cc",
   "metadata": {},
   "outputs": [],
   "source": []
  },
  {
   "cell_type": "code",
   "execution_count": null,
   "id": "a4e6d2b5",
   "metadata": {},
   "outputs": [],
   "source": []
  },
  {
   "cell_type": "code",
   "execution_count": null,
   "id": "6c75e753",
   "metadata": {},
   "outputs": [],
   "source": []
  }
 ],
 "metadata": {
  "kernelspec": {
   "display_name": "Python 3 (ipykernel)",
   "language": "python",
   "name": "python3"
  },
  "language_info": {
   "codemirror_mode": {
    "name": "ipython",
    "version": 3
   },
   "file_extension": ".py",
   "mimetype": "text/x-python",
   "name": "python",
   "nbconvert_exporter": "python",
   "pygments_lexer": "ipython3",
   "version": "3.9.12"
  }
 },
 "nbformat": 4,
 "nbformat_minor": 5
}
